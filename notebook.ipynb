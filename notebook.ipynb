{
  "cells": [
    {
      "cell_type": "markdown",
      "metadata": {
        "id": "view-in-github",
        "colab_type": "text"
      },
      "source": [
        "<a href=\"https://colab.research.google.com/github/Davidsonity/Clustering---GenderByVoice/blob/main/Gender.ipynb\" target=\"_parent\"><img src=\"https://colab.research.google.com/assets/colab-badge.svg\" alt=\"Open In Colab\"/></a>"
      ]
    },
    {
      "cell_type": "markdown",
      "id": "bf946d95-0471-442a-b4af-c07c9cc5c0d2",
      "metadata": {
        "tags": [],
        "id": "bf946d95-0471-442a-b4af-c07c9cc5c0d2"
      },
      "source": [
        "# **Identifying the Gender of a Voice using Unsupervised learning approach**\n",
        "### **INTRODUCTION**\n",
        "#### **Objectives**\n",
        "The objective of this project is to use several unsupervised machine learning approach to best group the data into subsets with similar behavours\n",
        "\n",
        "\n",
        "#### **About Dataset**\n",
        "This database was created to identify a voice as male or female, based upon acoustic properties of the voice and speech. The dataset consists of 3,168 recorded voice samples, collected from male and female speakers.\n",
        "\n",
        "**Data Source:** https://www.kaggle.com/datasets/primaryobjects/voicegender\n",
        "\n",
        "**Attribute Information:**\n",
        "The following acoustic properties of each voice are measured:\n",
        "- duration: length of signal\n",
        "- meanfreq: mean frequency (in kHz)\n",
        "- sd: standard deviation of frequency\n",
        "- median: median frequency (in kHz)\n",
        "- Q25: first quantile (in kHz)\n",
        "- Q75: third quantile (in kHz)\n",
        "- IQR: interquantile range (in kHz)\n",
        "- skew: skewness (see note in specprop description)\n",
        "- kurt: kurtosis (see note in specprop description)\n",
        "- sp.ent: spectral entropy\n",
        "- sfm: spectral flatness\n",
        "- mode: mode frequency\n",
        "- centroid: frequency centroid (see specprop)\n",
        "- peakf: peak frequency (frequency with highest energy)\n",
        "- meanfun: average of fundamental frequency measured across acoustic signal\n",
        "- minfun: minimum fundamental frequency measured across acoustic signal\n",
        "- maxfun: maximum fundamental frequency measured across acoustic signal\n",
        "- meandom: average of dominant frequency measured across acoustic signal\n",
        "- mindom: minimum of dominant frequency measured across acoustic signal\n",
        "- maxdom: maximum of dominant frequency measured across acoustic signal\n",
        "- dfrange: range of dominant frequency measured across acoustic signal\n",
        "- modindx: modulation index. Calculated as the accumulated absolute difference between\n",
        "- abel: male or female"
      ]
    },
    {
      "cell_type": "markdown",
      "id": "cbf73d14-ed1e-42e1-ac83-bb70fa63b51d",
      "metadata": {
        "id": "cbf73d14-ed1e-42e1-ac83-bb70fa63b51d"
      },
      "source": [
        "### Preliminary Wrangling"
      ]
    },
    {
      "cell_type": "code",
      "execution_count": null,
      "id": "a235c5a6-e476-4a91-b27a-bc89878bbaa9",
      "metadata": {
        "id": "a235c5a6-e476-4a91-b27a-bc89878bbaa9"
      },
      "outputs": [],
      "source": [
        "import pandas as pd\n",
        "import numpy as np\n",
        "import matplotlib.pyplot as plt\n",
        "import seaborn as sns\n",
        "import warnings\n",
        "warnings.filterwarnings('ignore')\n",
        "\n",
        "sns.set(font_scale = 1.3)\n",
        "%matplotlib inline"
      ]
    },
    {
      "cell_type": "code",
      "execution_count": null,
      "id": "55e01089-2f8f-4422-b921-43861ab9ec62",
      "metadata": {
        "id": "55e01089-2f8f-4422-b921-43861ab9ec62",
        "outputId": "304589ad-64a7-4ce3-ea16-e6fc93403d97"
      },
      "outputs": [
        {
          "data": {
            "text/html": [
              "<div>\n",
              "<style scoped>\n",
              "    .dataframe tbody tr th:only-of-type {\n",
              "        vertical-align: middle;\n",
              "    }\n",
              "\n",
              "    .dataframe tbody tr th {\n",
              "        vertical-align: top;\n",
              "    }\n",
              "\n",
              "    .dataframe thead th {\n",
              "        text-align: right;\n",
              "    }\n",
              "</style>\n",
              "<table border=\"1\" class=\"dataframe\">\n",
              "  <thead>\n",
              "    <tr style=\"text-align: right;\">\n",
              "      <th></th>\n",
              "      <th>meanfreq</th>\n",
              "      <th>sd</th>\n",
              "      <th>median</th>\n",
              "      <th>Q25</th>\n",
              "      <th>Q75</th>\n",
              "      <th>IQR</th>\n",
              "      <th>skew</th>\n",
              "      <th>kurt</th>\n",
              "      <th>sp.ent</th>\n",
              "      <th>sfm</th>\n",
              "      <th>...</th>\n",
              "      <th>centroid</th>\n",
              "      <th>meanfun</th>\n",
              "      <th>minfun</th>\n",
              "      <th>maxfun</th>\n",
              "      <th>meandom</th>\n",
              "      <th>mindom</th>\n",
              "      <th>maxdom</th>\n",
              "      <th>dfrange</th>\n",
              "      <th>modindx</th>\n",
              "      <th>label</th>\n",
              "    </tr>\n",
              "  </thead>\n",
              "  <tbody>\n",
              "    <tr>\n",
              "      <th>0</th>\n",
              "      <td>0.059781</td>\n",
              "      <td>0.064241</td>\n",
              "      <td>0.032027</td>\n",
              "      <td>0.015071</td>\n",
              "      <td>0.090193</td>\n",
              "      <td>0.075122</td>\n",
              "      <td>12.863462</td>\n",
              "      <td>274.402906</td>\n",
              "      <td>0.893369</td>\n",
              "      <td>0.491918</td>\n",
              "      <td>...</td>\n",
              "      <td>0.059781</td>\n",
              "      <td>0.084279</td>\n",
              "      <td>0.015702</td>\n",
              "      <td>0.275862</td>\n",
              "      <td>0.007812</td>\n",
              "      <td>0.007812</td>\n",
              "      <td>0.007812</td>\n",
              "      <td>0.000000</td>\n",
              "      <td>0.000000</td>\n",
              "      <td>male</td>\n",
              "    </tr>\n",
              "    <tr>\n",
              "      <th>1</th>\n",
              "      <td>0.066009</td>\n",
              "      <td>0.067310</td>\n",
              "      <td>0.040229</td>\n",
              "      <td>0.019414</td>\n",
              "      <td>0.092666</td>\n",
              "      <td>0.073252</td>\n",
              "      <td>22.423285</td>\n",
              "      <td>634.613855</td>\n",
              "      <td>0.892193</td>\n",
              "      <td>0.513724</td>\n",
              "      <td>...</td>\n",
              "      <td>0.066009</td>\n",
              "      <td>0.107937</td>\n",
              "      <td>0.015826</td>\n",
              "      <td>0.250000</td>\n",
              "      <td>0.009014</td>\n",
              "      <td>0.007812</td>\n",
              "      <td>0.054688</td>\n",
              "      <td>0.046875</td>\n",
              "      <td>0.052632</td>\n",
              "      <td>male</td>\n",
              "    </tr>\n",
              "    <tr>\n",
              "      <th>2</th>\n",
              "      <td>0.077316</td>\n",
              "      <td>0.083829</td>\n",
              "      <td>0.036718</td>\n",
              "      <td>0.008701</td>\n",
              "      <td>0.131908</td>\n",
              "      <td>0.123207</td>\n",
              "      <td>30.757155</td>\n",
              "      <td>1024.927705</td>\n",
              "      <td>0.846389</td>\n",
              "      <td>0.478905</td>\n",
              "      <td>...</td>\n",
              "      <td>0.077316</td>\n",
              "      <td>0.098706</td>\n",
              "      <td>0.015656</td>\n",
              "      <td>0.271186</td>\n",
              "      <td>0.007990</td>\n",
              "      <td>0.007812</td>\n",
              "      <td>0.015625</td>\n",
              "      <td>0.007812</td>\n",
              "      <td>0.046512</td>\n",
              "      <td>male</td>\n",
              "    </tr>\n",
              "    <tr>\n",
              "      <th>3</th>\n",
              "      <td>0.151228</td>\n",
              "      <td>0.072111</td>\n",
              "      <td>0.158011</td>\n",
              "      <td>0.096582</td>\n",
              "      <td>0.207955</td>\n",
              "      <td>0.111374</td>\n",
              "      <td>1.232831</td>\n",
              "      <td>4.177296</td>\n",
              "      <td>0.963322</td>\n",
              "      <td>0.727232</td>\n",
              "      <td>...</td>\n",
              "      <td>0.151228</td>\n",
              "      <td>0.088965</td>\n",
              "      <td>0.017798</td>\n",
              "      <td>0.250000</td>\n",
              "      <td>0.201497</td>\n",
              "      <td>0.007812</td>\n",
              "      <td>0.562500</td>\n",
              "      <td>0.554688</td>\n",
              "      <td>0.247119</td>\n",
              "      <td>male</td>\n",
              "    </tr>\n",
              "    <tr>\n",
              "      <th>4</th>\n",
              "      <td>0.135120</td>\n",
              "      <td>0.079146</td>\n",
              "      <td>0.124656</td>\n",
              "      <td>0.078720</td>\n",
              "      <td>0.206045</td>\n",
              "      <td>0.127325</td>\n",
              "      <td>1.101174</td>\n",
              "      <td>4.333713</td>\n",
              "      <td>0.971955</td>\n",
              "      <td>0.783568</td>\n",
              "      <td>...</td>\n",
              "      <td>0.135120</td>\n",
              "      <td>0.106398</td>\n",
              "      <td>0.016931</td>\n",
              "      <td>0.266667</td>\n",
              "      <td>0.712812</td>\n",
              "      <td>0.007812</td>\n",
              "      <td>5.484375</td>\n",
              "      <td>5.476562</td>\n",
              "      <td>0.208274</td>\n",
              "      <td>male</td>\n",
              "    </tr>\n",
              "    <tr>\n",
              "      <th>...</th>\n",
              "      <td>...</td>\n",
              "      <td>...</td>\n",
              "      <td>...</td>\n",
              "      <td>...</td>\n",
              "      <td>...</td>\n",
              "      <td>...</td>\n",
              "      <td>...</td>\n",
              "      <td>...</td>\n",
              "      <td>...</td>\n",
              "      <td>...</td>\n",
              "      <td>...</td>\n",
              "      <td>...</td>\n",
              "      <td>...</td>\n",
              "      <td>...</td>\n",
              "      <td>...</td>\n",
              "      <td>...</td>\n",
              "      <td>...</td>\n",
              "      <td>...</td>\n",
              "      <td>...</td>\n",
              "      <td>...</td>\n",
              "      <td>...</td>\n",
              "    </tr>\n",
              "    <tr>\n",
              "      <th>3163</th>\n",
              "      <td>0.131884</td>\n",
              "      <td>0.084734</td>\n",
              "      <td>0.153707</td>\n",
              "      <td>0.049285</td>\n",
              "      <td>0.201144</td>\n",
              "      <td>0.151859</td>\n",
              "      <td>1.762129</td>\n",
              "      <td>6.630383</td>\n",
              "      <td>0.962934</td>\n",
              "      <td>0.763182</td>\n",
              "      <td>...</td>\n",
              "      <td>0.131884</td>\n",
              "      <td>0.182790</td>\n",
              "      <td>0.083770</td>\n",
              "      <td>0.262295</td>\n",
              "      <td>0.832899</td>\n",
              "      <td>0.007812</td>\n",
              "      <td>4.210938</td>\n",
              "      <td>4.203125</td>\n",
              "      <td>0.161929</td>\n",
              "      <td>female</td>\n",
              "    </tr>\n",
              "    <tr>\n",
              "      <th>3164</th>\n",
              "      <td>0.116221</td>\n",
              "      <td>0.089221</td>\n",
              "      <td>0.076758</td>\n",
              "      <td>0.042718</td>\n",
              "      <td>0.204911</td>\n",
              "      <td>0.162193</td>\n",
              "      <td>0.693730</td>\n",
              "      <td>2.503954</td>\n",
              "      <td>0.960716</td>\n",
              "      <td>0.709570</td>\n",
              "      <td>...</td>\n",
              "      <td>0.116221</td>\n",
              "      <td>0.188980</td>\n",
              "      <td>0.034409</td>\n",
              "      <td>0.275862</td>\n",
              "      <td>0.909856</td>\n",
              "      <td>0.039062</td>\n",
              "      <td>3.679688</td>\n",
              "      <td>3.640625</td>\n",
              "      <td>0.277897</td>\n",
              "      <td>female</td>\n",
              "    </tr>\n",
              "    <tr>\n",
              "      <th>3165</th>\n",
              "      <td>0.142056</td>\n",
              "      <td>0.095798</td>\n",
              "      <td>0.183731</td>\n",
              "      <td>0.033424</td>\n",
              "      <td>0.224360</td>\n",
              "      <td>0.190936</td>\n",
              "      <td>1.876502</td>\n",
              "      <td>6.604509</td>\n",
              "      <td>0.946854</td>\n",
              "      <td>0.654196</td>\n",
              "      <td>...</td>\n",
              "      <td>0.142056</td>\n",
              "      <td>0.209918</td>\n",
              "      <td>0.039506</td>\n",
              "      <td>0.275862</td>\n",
              "      <td>0.494271</td>\n",
              "      <td>0.007812</td>\n",
              "      <td>2.937500</td>\n",
              "      <td>2.929688</td>\n",
              "      <td>0.194759</td>\n",
              "      <td>female</td>\n",
              "    </tr>\n",
              "    <tr>\n",
              "      <th>3166</th>\n",
              "      <td>0.143659</td>\n",
              "      <td>0.090628</td>\n",
              "      <td>0.184976</td>\n",
              "      <td>0.043508</td>\n",
              "      <td>0.219943</td>\n",
              "      <td>0.176435</td>\n",
              "      <td>1.591065</td>\n",
              "      <td>5.388298</td>\n",
              "      <td>0.950436</td>\n",
              "      <td>0.675470</td>\n",
              "      <td>...</td>\n",
              "      <td>0.143659</td>\n",
              "      <td>0.172375</td>\n",
              "      <td>0.034483</td>\n",
              "      <td>0.250000</td>\n",
              "      <td>0.791360</td>\n",
              "      <td>0.007812</td>\n",
              "      <td>3.593750</td>\n",
              "      <td>3.585938</td>\n",
              "      <td>0.311002</td>\n",
              "      <td>female</td>\n",
              "    </tr>\n",
              "    <tr>\n",
              "      <th>3167</th>\n",
              "      <td>0.165509</td>\n",
              "      <td>0.092884</td>\n",
              "      <td>0.183044</td>\n",
              "      <td>0.070072</td>\n",
              "      <td>0.250827</td>\n",
              "      <td>0.180756</td>\n",
              "      <td>1.705029</td>\n",
              "      <td>5.769115</td>\n",
              "      <td>0.938829</td>\n",
              "      <td>0.601529</td>\n",
              "      <td>...</td>\n",
              "      <td>0.165509</td>\n",
              "      <td>0.185607</td>\n",
              "      <td>0.062257</td>\n",
              "      <td>0.271186</td>\n",
              "      <td>0.227022</td>\n",
              "      <td>0.007812</td>\n",
              "      <td>0.554688</td>\n",
              "      <td>0.546875</td>\n",
              "      <td>0.350000</td>\n",
              "      <td>female</td>\n",
              "    </tr>\n",
              "  </tbody>\n",
              "</table>\n",
              "<p>3168 rows × 21 columns</p>\n",
              "</div>"
            ],
            "text/plain": [
              "      meanfreq        sd    median       Q25       Q75       IQR       skew  \\\n",
              "0     0.059781  0.064241  0.032027  0.015071  0.090193  0.075122  12.863462   \n",
              "1     0.066009  0.067310  0.040229  0.019414  0.092666  0.073252  22.423285   \n",
              "2     0.077316  0.083829  0.036718  0.008701  0.131908  0.123207  30.757155   \n",
              "3     0.151228  0.072111  0.158011  0.096582  0.207955  0.111374   1.232831   \n",
              "4     0.135120  0.079146  0.124656  0.078720  0.206045  0.127325   1.101174   \n",
              "...        ...       ...       ...       ...       ...       ...        ...   \n",
              "3163  0.131884  0.084734  0.153707  0.049285  0.201144  0.151859   1.762129   \n",
              "3164  0.116221  0.089221  0.076758  0.042718  0.204911  0.162193   0.693730   \n",
              "3165  0.142056  0.095798  0.183731  0.033424  0.224360  0.190936   1.876502   \n",
              "3166  0.143659  0.090628  0.184976  0.043508  0.219943  0.176435   1.591065   \n",
              "3167  0.165509  0.092884  0.183044  0.070072  0.250827  0.180756   1.705029   \n",
              "\n",
              "             kurt    sp.ent       sfm  ...  centroid   meanfun    minfun  \\\n",
              "0      274.402906  0.893369  0.491918  ...  0.059781  0.084279  0.015702   \n",
              "1      634.613855  0.892193  0.513724  ...  0.066009  0.107937  0.015826   \n",
              "2     1024.927705  0.846389  0.478905  ...  0.077316  0.098706  0.015656   \n",
              "3        4.177296  0.963322  0.727232  ...  0.151228  0.088965  0.017798   \n",
              "4        4.333713  0.971955  0.783568  ...  0.135120  0.106398  0.016931   \n",
              "...           ...       ...       ...  ...       ...       ...       ...   \n",
              "3163     6.630383  0.962934  0.763182  ...  0.131884  0.182790  0.083770   \n",
              "3164     2.503954  0.960716  0.709570  ...  0.116221  0.188980  0.034409   \n",
              "3165     6.604509  0.946854  0.654196  ...  0.142056  0.209918  0.039506   \n",
              "3166     5.388298  0.950436  0.675470  ...  0.143659  0.172375  0.034483   \n",
              "3167     5.769115  0.938829  0.601529  ...  0.165509  0.185607  0.062257   \n",
              "\n",
              "        maxfun   meandom    mindom    maxdom   dfrange   modindx   label  \n",
              "0     0.275862  0.007812  0.007812  0.007812  0.000000  0.000000    male  \n",
              "1     0.250000  0.009014  0.007812  0.054688  0.046875  0.052632    male  \n",
              "2     0.271186  0.007990  0.007812  0.015625  0.007812  0.046512    male  \n",
              "3     0.250000  0.201497  0.007812  0.562500  0.554688  0.247119    male  \n",
              "4     0.266667  0.712812  0.007812  5.484375  5.476562  0.208274    male  \n",
              "...        ...       ...       ...       ...       ...       ...     ...  \n",
              "3163  0.262295  0.832899  0.007812  4.210938  4.203125  0.161929  female  \n",
              "3164  0.275862  0.909856  0.039062  3.679688  3.640625  0.277897  female  \n",
              "3165  0.275862  0.494271  0.007812  2.937500  2.929688  0.194759  female  \n",
              "3166  0.250000  0.791360  0.007812  3.593750  3.585938  0.311002  female  \n",
              "3167  0.271186  0.227022  0.007812  0.554688  0.546875  0.350000  female  \n",
              "\n",
              "[3168 rows x 21 columns]"
            ]
          },
          "execution_count": 2,
          "metadata": {},
          "output_type": "execute_result"
        }
      ],
      "source": [
        "df = pd.read_csv('voice.csv')\n",
        "df"
      ]
    },
    {
      "cell_type": "markdown",
      "id": "82f3e87c-6cf3-4644-bd75-7ff97c4e33d8",
      "metadata": {
        "id": "82f3e87c-6cf3-4644-bd75-7ff97c4e33d8"
      },
      "source": [
        "## **Exploratory Data Analysis**\n",
        "> Here we would explore the dataset for insights and also check if the dataset requires cleaning."
      ]
    },
    {
      "cell_type": "markdown",
      "id": "1d1eea27-b1f1-498d-8d79-5641b579f0e9",
      "metadata": {
        "id": "1d1eea27-b1f1-498d-8d79-5641b579f0e9"
      },
      "source": [
        "### Visualizing Numerical Columns"
      ]
    },
    {
      "cell_type": "code",
      "execution_count": null,
      "id": "d4fb7223-e63a-480d-8c80-8cf1b2972f88",
      "metadata": {
        "id": "d4fb7223-e63a-480d-8c80-8cf1b2972f88",
        "outputId": "bbf937b7-3b20-4417-e4bf-dfd842e7d3c5"
      },
      "outputs": [
        {
          "name": "stdout",
          "output_type": "stream",
          "text": [
            "<class 'pandas.core.frame.DataFrame'>\n",
            "RangeIndex: 3168 entries, 0 to 3167\n",
            "Data columns (total 21 columns):\n",
            " #   Column    Non-Null Count  Dtype  \n",
            "---  ------    --------------  -----  \n",
            " 0   meanfreq  3168 non-null   float64\n",
            " 1   sd        3168 non-null   float64\n",
            " 2   median    3168 non-null   float64\n",
            " 3   Q25       3168 non-null   float64\n",
            " 4   Q75       3168 non-null   float64\n",
            " 5   IQR       3168 non-null   float64\n",
            " 6   skew      3168 non-null   float64\n",
            " 7   kurt      3168 non-null   float64\n",
            " 8   sp.ent    3168 non-null   float64\n",
            " 9   sfm       3168 non-null   float64\n",
            " 10  mode      3168 non-null   float64\n",
            " 11  centroid  3168 non-null   float64\n",
            " 12  meanfun   3168 non-null   float64\n",
            " 13  minfun    3168 non-null   float64\n",
            " 14  maxfun    3168 non-null   float64\n",
            " 15  meandom   3168 non-null   float64\n",
            " 16  mindom    3168 non-null   float64\n",
            " 17  maxdom    3168 non-null   float64\n",
            " 18  dfrange   3168 non-null   float64\n",
            " 19  modindx   3168 non-null   float64\n",
            " 20  label     3168 non-null   object \n",
            "dtypes: float64(20), object(1)\n",
            "memory usage: 519.9+ KB\n"
          ]
        }
      ],
      "source": [
        "df.info()"
      ]
    },
    {
      "cell_type": "code",
      "execution_count": null,
      "id": "339bda5c-98ac-42dd-869e-1c11b593ab4c",
      "metadata": {
        "id": "339bda5c-98ac-42dd-869e-1c11b593ab4c",
        "outputId": "a503f703-d31c-4f61-9a3a-c167d80f85c9"
      },
      "outputs": [
        {
          "data": {
            "text/html": [
              "<div>\n",
              "<style scoped>\n",
              "    .dataframe tbody tr th:only-of-type {\n",
              "        vertical-align: middle;\n",
              "    }\n",
              "\n",
              "    .dataframe tbody tr th {\n",
              "        vertical-align: top;\n",
              "    }\n",
              "\n",
              "    .dataframe thead th {\n",
              "        text-align: right;\n",
              "    }\n",
              "</style>\n",
              "<table border=\"1\" class=\"dataframe\">\n",
              "  <thead>\n",
              "    <tr style=\"text-align: right;\">\n",
              "      <th></th>\n",
              "      <th>meanfreq</th>\n",
              "      <th>sd</th>\n",
              "      <th>median</th>\n",
              "      <th>Q25</th>\n",
              "      <th>Q75</th>\n",
              "      <th>IQR</th>\n",
              "      <th>skew</th>\n",
              "      <th>kurt</th>\n",
              "      <th>sp.ent</th>\n",
              "      <th>sfm</th>\n",
              "      <th>mode</th>\n",
              "      <th>centroid</th>\n",
              "      <th>meanfun</th>\n",
              "      <th>minfun</th>\n",
              "      <th>maxfun</th>\n",
              "      <th>meandom</th>\n",
              "      <th>mindom</th>\n",
              "      <th>maxdom</th>\n",
              "      <th>dfrange</th>\n",
              "      <th>modindx</th>\n",
              "    </tr>\n",
              "  </thead>\n",
              "  <tbody>\n",
              "    <tr>\n",
              "      <th>count</th>\n",
              "      <td>3168.000000</td>\n",
              "      <td>3168.000000</td>\n",
              "      <td>3168.000000</td>\n",
              "      <td>3168.000000</td>\n",
              "      <td>3168.000000</td>\n",
              "      <td>3168.000000</td>\n",
              "      <td>3168.000000</td>\n",
              "      <td>3168.000000</td>\n",
              "      <td>3168.000000</td>\n",
              "      <td>3168.000000</td>\n",
              "      <td>3168.000000</td>\n",
              "      <td>3168.000000</td>\n",
              "      <td>3168.000000</td>\n",
              "      <td>3168.000000</td>\n",
              "      <td>3168.000000</td>\n",
              "      <td>3168.000000</td>\n",
              "      <td>3168.000000</td>\n",
              "      <td>3168.000000</td>\n",
              "      <td>3168.000000</td>\n",
              "      <td>3168.000000</td>\n",
              "    </tr>\n",
              "    <tr>\n",
              "      <th>mean</th>\n",
              "      <td>0.180907</td>\n",
              "      <td>0.057126</td>\n",
              "      <td>0.185621</td>\n",
              "      <td>0.140456</td>\n",
              "      <td>0.224765</td>\n",
              "      <td>0.084309</td>\n",
              "      <td>3.140168</td>\n",
              "      <td>36.568461</td>\n",
              "      <td>0.895127</td>\n",
              "      <td>0.408216</td>\n",
              "      <td>0.165282</td>\n",
              "      <td>0.180907</td>\n",
              "      <td>0.142807</td>\n",
              "      <td>0.036802</td>\n",
              "      <td>0.258842</td>\n",
              "      <td>0.829211</td>\n",
              "      <td>0.052647</td>\n",
              "      <td>5.047277</td>\n",
              "      <td>4.994630</td>\n",
              "      <td>0.173752</td>\n",
              "    </tr>\n",
              "    <tr>\n",
              "      <th>std</th>\n",
              "      <td>0.029918</td>\n",
              "      <td>0.016652</td>\n",
              "      <td>0.036360</td>\n",
              "      <td>0.048680</td>\n",
              "      <td>0.023639</td>\n",
              "      <td>0.042783</td>\n",
              "      <td>4.240529</td>\n",
              "      <td>134.928661</td>\n",
              "      <td>0.044980</td>\n",
              "      <td>0.177521</td>\n",
              "      <td>0.077203</td>\n",
              "      <td>0.029918</td>\n",
              "      <td>0.032304</td>\n",
              "      <td>0.019220</td>\n",
              "      <td>0.030077</td>\n",
              "      <td>0.525205</td>\n",
              "      <td>0.063299</td>\n",
              "      <td>3.521157</td>\n",
              "      <td>3.520039</td>\n",
              "      <td>0.119454</td>\n",
              "    </tr>\n",
              "    <tr>\n",
              "      <th>min</th>\n",
              "      <td>0.039363</td>\n",
              "      <td>0.018363</td>\n",
              "      <td>0.010975</td>\n",
              "      <td>0.000229</td>\n",
              "      <td>0.042946</td>\n",
              "      <td>0.014558</td>\n",
              "      <td>0.141735</td>\n",
              "      <td>2.068455</td>\n",
              "      <td>0.738651</td>\n",
              "      <td>0.036876</td>\n",
              "      <td>0.000000</td>\n",
              "      <td>0.039363</td>\n",
              "      <td>0.055565</td>\n",
              "      <td>0.009775</td>\n",
              "      <td>0.103093</td>\n",
              "      <td>0.007812</td>\n",
              "      <td>0.004883</td>\n",
              "      <td>0.007812</td>\n",
              "      <td>0.000000</td>\n",
              "      <td>0.000000</td>\n",
              "    </tr>\n",
              "    <tr>\n",
              "      <th>25%</th>\n",
              "      <td>0.163662</td>\n",
              "      <td>0.041954</td>\n",
              "      <td>0.169593</td>\n",
              "      <td>0.111087</td>\n",
              "      <td>0.208747</td>\n",
              "      <td>0.042560</td>\n",
              "      <td>1.649569</td>\n",
              "      <td>5.669547</td>\n",
              "      <td>0.861811</td>\n",
              "      <td>0.258041</td>\n",
              "      <td>0.118016</td>\n",
              "      <td>0.163662</td>\n",
              "      <td>0.116998</td>\n",
              "      <td>0.018223</td>\n",
              "      <td>0.253968</td>\n",
              "      <td>0.419828</td>\n",
              "      <td>0.007812</td>\n",
              "      <td>2.070312</td>\n",
              "      <td>2.044922</td>\n",
              "      <td>0.099766</td>\n",
              "    </tr>\n",
              "    <tr>\n",
              "      <th>50%</th>\n",
              "      <td>0.184838</td>\n",
              "      <td>0.059155</td>\n",
              "      <td>0.190032</td>\n",
              "      <td>0.140286</td>\n",
              "      <td>0.225684</td>\n",
              "      <td>0.094280</td>\n",
              "      <td>2.197101</td>\n",
              "      <td>8.318463</td>\n",
              "      <td>0.901767</td>\n",
              "      <td>0.396335</td>\n",
              "      <td>0.186599</td>\n",
              "      <td>0.184838</td>\n",
              "      <td>0.140519</td>\n",
              "      <td>0.046110</td>\n",
              "      <td>0.271186</td>\n",
              "      <td>0.765795</td>\n",
              "      <td>0.023438</td>\n",
              "      <td>4.992188</td>\n",
              "      <td>4.945312</td>\n",
              "      <td>0.139357</td>\n",
              "    </tr>\n",
              "    <tr>\n",
              "      <th>75%</th>\n",
              "      <td>0.199146</td>\n",
              "      <td>0.067020</td>\n",
              "      <td>0.210618</td>\n",
              "      <td>0.175939</td>\n",
              "      <td>0.243660</td>\n",
              "      <td>0.114175</td>\n",
              "      <td>2.931694</td>\n",
              "      <td>13.648905</td>\n",
              "      <td>0.928713</td>\n",
              "      <td>0.533676</td>\n",
              "      <td>0.221104</td>\n",
              "      <td>0.199146</td>\n",
              "      <td>0.169581</td>\n",
              "      <td>0.047904</td>\n",
              "      <td>0.277457</td>\n",
              "      <td>1.177166</td>\n",
              "      <td>0.070312</td>\n",
              "      <td>7.007812</td>\n",
              "      <td>6.992188</td>\n",
              "      <td>0.209183</td>\n",
              "    </tr>\n",
              "    <tr>\n",
              "      <th>max</th>\n",
              "      <td>0.251124</td>\n",
              "      <td>0.115273</td>\n",
              "      <td>0.261224</td>\n",
              "      <td>0.247347</td>\n",
              "      <td>0.273469</td>\n",
              "      <td>0.252225</td>\n",
              "      <td>34.725453</td>\n",
              "      <td>1309.612887</td>\n",
              "      <td>0.981997</td>\n",
              "      <td>0.842936</td>\n",
              "      <td>0.280000</td>\n",
              "      <td>0.251124</td>\n",
              "      <td>0.237636</td>\n",
              "      <td>0.204082</td>\n",
              "      <td>0.279114</td>\n",
              "      <td>2.957682</td>\n",
              "      <td>0.458984</td>\n",
              "      <td>21.867188</td>\n",
              "      <td>21.843750</td>\n",
              "      <td>0.932374</td>\n",
              "    </tr>\n",
              "  </tbody>\n",
              "</table>\n",
              "</div>"
            ],
            "text/plain": [
              "          meanfreq           sd       median          Q25          Q75  \\\n",
              "count  3168.000000  3168.000000  3168.000000  3168.000000  3168.000000   \n",
              "mean      0.180907     0.057126     0.185621     0.140456     0.224765   \n",
              "std       0.029918     0.016652     0.036360     0.048680     0.023639   \n",
              "min       0.039363     0.018363     0.010975     0.000229     0.042946   \n",
              "25%       0.163662     0.041954     0.169593     0.111087     0.208747   \n",
              "50%       0.184838     0.059155     0.190032     0.140286     0.225684   \n",
              "75%       0.199146     0.067020     0.210618     0.175939     0.243660   \n",
              "max       0.251124     0.115273     0.261224     0.247347     0.273469   \n",
              "\n",
              "               IQR         skew         kurt       sp.ent          sfm  \\\n",
              "count  3168.000000  3168.000000  3168.000000  3168.000000  3168.000000   \n",
              "mean      0.084309     3.140168    36.568461     0.895127     0.408216   \n",
              "std       0.042783     4.240529   134.928661     0.044980     0.177521   \n",
              "min       0.014558     0.141735     2.068455     0.738651     0.036876   \n",
              "25%       0.042560     1.649569     5.669547     0.861811     0.258041   \n",
              "50%       0.094280     2.197101     8.318463     0.901767     0.396335   \n",
              "75%       0.114175     2.931694    13.648905     0.928713     0.533676   \n",
              "max       0.252225    34.725453  1309.612887     0.981997     0.842936   \n",
              "\n",
              "              mode     centroid      meanfun       minfun       maxfun  \\\n",
              "count  3168.000000  3168.000000  3168.000000  3168.000000  3168.000000   \n",
              "mean      0.165282     0.180907     0.142807     0.036802     0.258842   \n",
              "std       0.077203     0.029918     0.032304     0.019220     0.030077   \n",
              "min       0.000000     0.039363     0.055565     0.009775     0.103093   \n",
              "25%       0.118016     0.163662     0.116998     0.018223     0.253968   \n",
              "50%       0.186599     0.184838     0.140519     0.046110     0.271186   \n",
              "75%       0.221104     0.199146     0.169581     0.047904     0.277457   \n",
              "max       0.280000     0.251124     0.237636     0.204082     0.279114   \n",
              "\n",
              "           meandom       mindom       maxdom      dfrange      modindx  \n",
              "count  3168.000000  3168.000000  3168.000000  3168.000000  3168.000000  \n",
              "mean      0.829211     0.052647     5.047277     4.994630     0.173752  \n",
              "std       0.525205     0.063299     3.521157     3.520039     0.119454  \n",
              "min       0.007812     0.004883     0.007812     0.000000     0.000000  \n",
              "25%       0.419828     0.007812     2.070312     2.044922     0.099766  \n",
              "50%       0.765795     0.023438     4.992188     4.945312     0.139357  \n",
              "75%       1.177166     0.070312     7.007812     6.992188     0.209183  \n",
              "max       2.957682     0.458984    21.867188    21.843750     0.932374  "
            ]
          },
          "execution_count": 4,
          "metadata": {},
          "output_type": "execute_result"
        }
      ],
      "source": [
        "df.describe()"
      ]
    },
    {
      "cell_type": "code",
      "execution_count": null,
      "id": "1061cf8e-6734-4dc6-a3c0-5d192b5b62f3",
      "metadata": {
        "id": "1061cf8e-6734-4dc6-a3c0-5d192b5b62f3",
        "outputId": "5846ad3d-dff8-42db-be84-b3424e299071"
      },
      "outputs": [
        {
          "data": {
            "image/png": "[encoded data removed]",
            "text/plain": [
              "<Figure size 1080x1080 with 20 Axes>"
            ]
          },
          "metadata": {},
          "output_type": "display_data"
        }
      ],
      "source": [
        "sns.set(font_scale = 1.3)\n",
        "df.hist(figsize = (15, 15));"
      ]
    },
    {
      "cell_type": "markdown",
      "id": "ada4b56d-bf7e-41e8-a12d-222cac9e636b",
      "metadata": {
        "id": "ada4b56d-bf7e-41e8-a12d-222cac9e636b"
      },
      "source": [
        "**RESULTS:**\n",
        "> The dataset is clean, with all features in the right datatype, no null values etc.\n",
        "\n",
        "**SOME INSIGHT:**\n",
        "- Some features has skewed distribution\n",
        "- most people have maximum of dominant frequency less than 10"
      ]
    },
    {
      "cell_type": "markdown",
      "id": "0aad8b5c-511b-4acc-86c2-a24a9ab62f42",
      "metadata": {
        "id": "0aad8b5c-511b-4acc-86c2-a24a9ab62f42"
      },
      "source": [
        "#### Performing Logorithmic Transformation on Highly skewed columns\n",
        "> Here we set the skewness threshold to 0.8. "
      ]
    },
    {
      "cell_type": "code",
      "execution_count": null,
      "id": "1680f76a-abf2-4fb3-bf4a-b0c93aef1463",
      "metadata": {
        "id": "1680f76a-abf2-4fb3-bf4a-b0c93aef1463"
      },
      "outputs": [],
      "source": [
        "features_col = df.columns[:-1]\n",
        "features_col\n",
        "X = df[features_col]"
      ]
    },
    {
      "cell_type": "code",
      "execution_count": null,
      "id": "0bbf4c19-122e-482d-8b7f-69cfbb105a5f",
      "metadata": {
        "id": "0bbf4c19-122e-482d-8b7f-69cfbb105a5f",
        "outputId": "3555f020-7c8e-4013-9a82-9a913d036fa1"
      },
      "outputs": [
        {
          "data": {
            "text/plain": [
              "kurt       5.872586\n",
              "skew       4.933314\n",
              "modindx    2.064335\n",
              "minfun     1.878004\n",
              "mindom     1.661114\n",
              "mode      -0.837236\n",
              "Q75       -0.900311\n",
              "median    -1.012785\n",
              "maxfun    -2.238535\n",
              "dtype: float64"
            ]
          },
          "execution_count": 7,
          "metadata": {},
          "output_type": "execute_result"
        }
      ],
      "source": [
        "skew_columns = X.skew().sort_values(ascending=False)\n",
        "skew_columns = skew_columns.loc[abs(skew_columns) > 0.8]\n",
        "skew_columns"
      ]
    },
    {
      "cell_type": "code",
      "execution_count": null,
      "id": "a89b66fc-21ba-4683-b671-786dbdbc7dfe",
      "metadata": {
        "id": "a89b66fc-21ba-4683-b671-786dbdbc7dfe"
      },
      "outputs": [],
      "source": [
        "for col in skew_columns.index.tolist():\n",
        "    df[col] = np.log1p(df[col])"
      ]
    },
    {
      "cell_type": "code",
      "execution_count": null,
      "id": "59fa9580-1842-4308-b89c-4935cacee874",
      "metadata": {
        "id": "59fa9580-1842-4308-b89c-4935cacee874",
        "outputId": "bb1a59db-c7e8-4124-9932-7494fd997a09"
      },
      "outputs": [
        {
          "data": {
            "text/html": [
              "<div>\n",
              "<style scoped>\n",
              "    .dataframe tbody tr th:only-of-type {\n",
              "        vertical-align: middle;\n",
              "    }\n",
              "\n",
              "    .dataframe tbody tr th {\n",
              "        vertical-align: top;\n",
              "    }\n",
              "\n",
              "    .dataframe thead th {\n",
              "        text-align: right;\n",
              "    }\n",
              "</style>\n",
              "<table border=\"1\" class=\"dataframe\">\n",
              "  <thead>\n",
              "    <tr style=\"text-align: right;\">\n",
              "      <th></th>\n",
              "      <th>meanfreq</th>\n",
              "      <th>sd</th>\n",
              "      <th>median</th>\n",
              "      <th>Q25</th>\n",
              "      <th>Q75</th>\n",
              "      <th>IQR</th>\n",
              "      <th>skew</th>\n",
              "      <th>kurt</th>\n",
              "      <th>sp.ent</th>\n",
              "      <th>sfm</th>\n",
              "      <th>...</th>\n",
              "      <th>centroid</th>\n",
              "      <th>meanfun</th>\n",
              "      <th>minfun</th>\n",
              "      <th>maxfun</th>\n",
              "      <th>meandom</th>\n",
              "      <th>mindom</th>\n",
              "      <th>maxdom</th>\n",
              "      <th>dfrange</th>\n",
              "      <th>modindx</th>\n",
              "      <th>label</th>\n",
              "    </tr>\n",
              "  </thead>\n",
              "  <tbody>\n",
              "    <tr>\n",
              "      <th>0</th>\n",
              "      <td>0.059781</td>\n",
              "      <td>0.064241</td>\n",
              "      <td>0.031525</td>\n",
              "      <td>0.015071</td>\n",
              "      <td>0.086355</td>\n",
              "      <td>0.075122</td>\n",
              "      <td>2.629257</td>\n",
              "      <td>5.618235</td>\n",
              "      <td>0.893369</td>\n",
              "      <td>0.491918</td>\n",
              "      <td>...</td>\n",
              "      <td>0.059781</td>\n",
              "      <td>0.084279</td>\n",
              "      <td>0.015580</td>\n",
              "      <td>0.243622</td>\n",
              "      <td>0.007812</td>\n",
              "      <td>0.007782</td>\n",
              "      <td>0.007812</td>\n",
              "      <td>0.000000</td>\n",
              "      <td>0.000000</td>\n",
              "      <td>male</td>\n",
              "    </tr>\n",
              "    <tr>\n",
              "      <th>1</th>\n",
              "      <td>0.066009</td>\n",
              "      <td>0.067310</td>\n",
              "      <td>0.039441</td>\n",
              "      <td>0.019414</td>\n",
              "      <td>0.088621</td>\n",
              "      <td>0.073252</td>\n",
              "      <td>3.153731</td>\n",
              "      <td>6.454591</td>\n",
              "      <td>0.892193</td>\n",
              "      <td>0.513724</td>\n",
              "      <td>...</td>\n",
              "      <td>0.066009</td>\n",
              "      <td>0.107937</td>\n",
              "      <td>0.015702</td>\n",
              "      <td>0.223144</td>\n",
              "      <td>0.009014</td>\n",
              "      <td>0.007782</td>\n",
              "      <td>0.054688</td>\n",
              "      <td>0.046875</td>\n",
              "      <td>0.051293</td>\n",
              "      <td>male</td>\n",
              "    </tr>\n",
              "    <tr>\n",
              "      <th>2</th>\n",
              "      <td>0.077316</td>\n",
              "      <td>0.083829</td>\n",
              "      <td>0.036060</td>\n",
              "      <td>0.008701</td>\n",
              "      <td>0.123905</td>\n",
              "      <td>0.123207</td>\n",
              "      <td>3.458118</td>\n",
              "      <td>6.933353</td>\n",
              "      <td>0.846389</td>\n",
              "      <td>0.478905</td>\n",
              "      <td>...</td>\n",
              "      <td>0.077316</td>\n",
              "      <td>0.098706</td>\n",
              "      <td>0.015534</td>\n",
              "      <td>0.239951</td>\n",
              "      <td>0.007990</td>\n",
              "      <td>0.007782</td>\n",
              "      <td>0.015625</td>\n",
              "      <td>0.007812</td>\n",
              "      <td>0.045462</td>\n",
              "      <td>male</td>\n",
              "    </tr>\n",
              "    <tr>\n",
              "      <th>3</th>\n",
              "      <td>0.151228</td>\n",
              "      <td>0.072111</td>\n",
              "      <td>0.146704</td>\n",
              "      <td>0.096582</td>\n",
              "      <td>0.188929</td>\n",
              "      <td>0.111374</td>\n",
              "      <td>0.803270</td>\n",
              "      <td>1.644283</td>\n",
              "      <td>0.963322</td>\n",
              "      <td>0.727232</td>\n",
              "      <td>...</td>\n",
              "      <td>0.151228</td>\n",
              "      <td>0.088965</td>\n",
              "      <td>0.017641</td>\n",
              "      <td>0.223144</td>\n",
              "      <td>0.201497</td>\n",
              "      <td>0.007782</td>\n",
              "      <td>0.562500</td>\n",
              "      <td>0.554688</td>\n",
              "      <td>0.220836</td>\n",
              "      <td>male</td>\n",
              "    </tr>\n",
              "    <tr>\n",
              "      <th>4</th>\n",
              "      <td>0.135120</td>\n",
              "      <td>0.079146</td>\n",
              "      <td>0.117477</td>\n",
              "      <td>0.078720</td>\n",
              "      <td>0.187346</td>\n",
              "      <td>0.127325</td>\n",
              "      <td>0.742496</td>\n",
              "      <td>1.674048</td>\n",
              "      <td>0.971955</td>\n",
              "      <td>0.783568</td>\n",
              "      <td>...</td>\n",
              "      <td>0.135120</td>\n",
              "      <td>0.106398</td>\n",
              "      <td>0.016789</td>\n",
              "      <td>0.236389</td>\n",
              "      <td>0.712812</td>\n",
              "      <td>0.007782</td>\n",
              "      <td>5.484375</td>\n",
              "      <td>5.476562</td>\n",
              "      <td>0.189193</td>\n",
              "      <td>male</td>\n",
              "    </tr>\n",
              "  </tbody>\n",
              "</table>\n",
              "<p>5 rows × 21 columns</p>\n",
              "</div>"
            ],
            "text/plain": [
              "   meanfreq        sd    median       Q25       Q75       IQR      skew  \\\n",
              "0  0.059781  0.064241  0.031525  0.015071  0.086355  0.075122  2.629257   \n",
              "1  0.066009  0.067310  0.039441  0.019414  0.088621  0.073252  3.153731   \n",
              "2  0.077316  0.083829  0.036060  0.008701  0.123905  0.123207  3.458118   \n",
              "3  0.151228  0.072111  0.146704  0.096582  0.188929  0.111374  0.803270   \n",
              "4  0.135120  0.079146  0.117477  0.078720  0.187346  0.127325  0.742496   \n",
              "\n",
              "       kurt    sp.ent       sfm  ...  centroid   meanfun    minfun    maxfun  \\\n",
              "0  5.618235  0.893369  0.491918  ...  0.059781  0.084279  0.015580  0.243622   \n",
              "1  6.454591  0.892193  0.513724  ...  0.066009  0.107937  0.015702  0.223144   \n",
              "2  6.933353  0.846389  0.478905  ...  0.077316  0.098706  0.015534  0.239951   \n",
              "3  1.644283  0.963322  0.727232  ...  0.151228  0.088965  0.017641  0.223144   \n",
              "4  1.674048  0.971955  0.783568  ...  0.135120  0.106398  0.016789  0.236389   \n",
              "\n",
              "    meandom    mindom    maxdom   dfrange   modindx  label  \n",
              "0  0.007812  0.007782  0.007812  0.000000  0.000000   male  \n",
              "1  0.009014  0.007782  0.054688  0.046875  0.051293   male  \n",
              "2  0.007990  0.007782  0.015625  0.007812  0.045462   male  \n",
              "3  0.201497  0.007782  0.562500  0.554688  0.220836   male  \n",
              "4  0.712812  0.007782  5.484375  5.476562  0.189193   male  \n",
              "\n",
              "[5 rows x 21 columns]"
            ]
          },
          "execution_count": 9,
          "metadata": {},
          "output_type": "execute_result"
        }
      ],
      "source": [
        "df.head()"
      ]
    },
    {
      "cell_type": "markdown",
      "id": "4d07f28a-e0ec-460e-bb2f-7412a73dcc72",
      "metadata": {
        "id": "4d07f28a-e0ec-460e-bb2f-7412a73dcc72"
      },
      "source": [
        "### PERFROMING CLUSTERING OPERATIONS"
      ]
    },
    {
      "cell_type": "code",
      "execution_count": null,
      "id": "093b372c-96b0-4be1-8005-3969dd970515",
      "metadata": {
        "id": "093b372c-96b0-4be1-8005-3969dd970515"
      },
      "outputs": [],
      "source": [
        "from sklearn.preprocessing import StandardScaler"
      ]
    },
    {
      "cell_type": "code",
      "execution_count": null,
      "id": "447acb4d-7054-42df-8fee-287bb984c954",
      "metadata": {
        "id": "447acb4d-7054-42df-8fee-287bb984c954"
      },
      "outputs": [],
      "source": [
        "# Scaling the data\n",
        "sc = StandardScaler()\n",
        "X_scaled = sc.fit_transform(X)"
      ]
    },
    {
      "cell_type": "markdown",
      "id": "496c5e64-a869-4ec8-aa2e-2b862e68f091",
      "metadata": {
        "tags": [],
        "id": "496c5e64-a869-4ec8-aa2e-2b862e68f091"
      },
      "source": [
        "### KMeans Clustering"
      ]
    },
    {
      "cell_type": "code",
      "execution_count": null,
      "id": "0b2598ec-d017-44fc-ba53-83d55d7c5d5e",
      "metadata": {
        "id": "0b2598ec-d017-44fc-ba53-83d55d7c5d5e"
      },
      "outputs": [],
      "source": [
        "from sklearn.cluster import KMeans\n",
        "\n",
        "kmeans = KMeans(n_clusters=2, random_state=42)\n",
        "kmeans.fit(X_scaled)\n",
        "df['kmeans'] = kmeans.predict(X_scaled)"
      ]
    },
    {
      "cell_type": "code",
      "execution_count": null,
      "id": "afeb0b98-4b68-4da4-b05d-0c97a762a6a7",
      "metadata": {
        "id": "afeb0b98-4b68-4da4-b05d-0c97a762a6a7",
        "outputId": "d72cde6c-74f9-4391-948a-84f14a356060"
      },
      "outputs": [
        {
          "data": {
            "text/html": [
              "<div>\n",
              "<style scoped>\n",
              "    .dataframe tbody tr th:only-of-type {\n",
              "        vertical-align: middle;\n",
              "    }\n",
              "\n",
              "    .dataframe tbody tr th {\n",
              "        vertical-align: top;\n",
              "    }\n",
              "\n",
              "    .dataframe thead th {\n",
              "        text-align: right;\n",
              "    }\n",
              "</style>\n",
              "<table border=\"1\" class=\"dataframe\">\n",
              "  <thead>\n",
              "    <tr style=\"text-align: right;\">\n",
              "      <th></th>\n",
              "      <th></th>\n",
              "      <th>number</th>\n",
              "    </tr>\n",
              "    <tr>\n",
              "      <th>kmeans</th>\n",
              "      <th>label</th>\n",
              "      <th></th>\n",
              "    </tr>\n",
              "  </thead>\n",
              "  <tbody>\n",
              "    <tr>\n",
              "      <th rowspan=\"2\" valign=\"top\">0</th>\n",
              "      <th>female</th>\n",
              "      <td>1170</td>\n",
              "    </tr>\n",
              "    <tr>\n",
              "      <th>male</th>\n",
              "      <td>746</td>\n",
              "    </tr>\n",
              "    <tr>\n",
              "      <th rowspan=\"2\" valign=\"top\">1</th>\n",
              "      <th>female</th>\n",
              "      <td>414</td>\n",
              "    </tr>\n",
              "    <tr>\n",
              "      <th>male</th>\n",
              "      <td>838</td>\n",
              "    </tr>\n",
              "  </tbody>\n",
              "</table>\n",
              "</div>"
            ],
            "text/plain": [
              "               number\n",
              "kmeans label         \n",
              "0      female    1170\n",
              "       male       746\n",
              "1      female     414\n",
              "       male       838"
            ]
          },
          "execution_count": 13,
          "metadata": {},
          "output_type": "execute_result"
        }
      ],
      "source": [
        "kmeans_df = df[['label', 'kmeans']].groupby(['kmeans', 'label']).size().to_frame().rename(columns={0:'number'})\n",
        "kmeans_df"
      ]
    },
    {
      "cell_type": "markdown",
      "id": "006689f4-493f-4bcd-af6f-e99bb718bcee",
      "metadata": {
        "id": "006689f4-493f-4bcd-af6f-e99bb718bcee"
      },
      "source": [
        "#### Plotting Pie Chart Of Distributions In Each Cluster"
      ]
    },
    {
      "cell_type": "code",
      "execution_count": null,
      "id": "bc45ea4f-5d17-43a4-9a0f-4361c37298c6",
      "metadata": {
        "id": "bc45ea4f-5d17-43a4-9a0f-4361c37298c6",
        "outputId": "cf0dfaef-1274-4e2b-dd46-3c71053db726"
      },
      "outputs": [
        {
          "data": {
            "image/png": "[encoded data removed]",
            "text/plain": [
              "<Figure size 432x288 with 2 Axes>"
            ]
          },
          "metadata": {},
          "output_type": "display_data"
        }
      ],
      "source": [
        "# Creating dataframe with only label as index, i.e droping ('kmeans')index\n",
        "pie_data  = kmeans_df.droplevel('kmeans')\n",
        "\n",
        "# set the default color\n",
        "color = sns.color_palette()\n",
        "\n",
        "# set subplots\n",
        "fig, axs = plt.subplots(ncols=2)\n",
        "\n",
        "#create pie chart\n",
        "axs[0].pie(pie_data[:2]['number'], labels = pie_data[:2].index, colors = color, autopct='%.0f%%')\n",
        "axs[1].pie(pie_data[2:]['number'], labels = pie_data[2:].index, colors = color, autopct='%.0f%%');\n",
        "\n",
        "# title and labels\n",
        "fig.suptitle('Cluster Distribution');\n",
        "    \n",
        "axs[0].set_xlabel('Cluster 1')\n",
        "axs[1].set_xlabel('Cluster 2')\n",
        "\n",
        "fig.tight_layout();"
      ]
    },
    {
      "cell_type": "markdown",
      "id": "c72f6839-0f2b-4904-a5c7-2a4201cf20c5",
      "metadata": {
        "id": "c72f6839-0f2b-4904-a5c7-2a4201cf20c5"
      },
      "source": [
        "**INSIGHT:**\n",
        "- Cluster 1: 61% female and 39% male\n",
        "- Cluster 2: 33% female and 67% male\n",
        "\n",
        "We can deduce from the above information that the kmeans algorithm has done a good job in clustering this data."
      ]
    },
    {
      "cell_type": "markdown",
      "id": "a4c8eda1-b5d6-4ce0-be19-bc0dd78f07be",
      "metadata": {
        "id": "a4c8eda1-b5d6-4ce0-be19-bc0dd78f07be"
      },
      "source": [
        "#### Finding the best number of clusters using elbow method"
      ]
    },
    {
      "cell_type": "code",
      "execution_count": null,
      "id": "3d38836f-a78b-4860-bd33-a06027531cc1",
      "metadata": {
        "id": "3d38836f-a78b-4860-bd33-a06027531cc1"
      },
      "outputs": [],
      "source": [
        "km_inertia = list()\n",
        "for clust in np.arange(1,21):\n",
        "    kmeans = KMeans(n_clusters=clust, random_state=42)\n",
        "    kmeans.fit(X_scaled)\n",
        "    km_inertia.append(kmeans.inertia_)"
      ]
    },
    {
      "cell_type": "code",
      "execution_count": null,
      "id": "7a3fd65c-85d2-4ce5-a542-3f2d929d78ac",
      "metadata": {
        "id": "7a3fd65c-85d2-4ce5-a542-3f2d929d78ac",
        "outputId": "b855c0fa-6a31-4bb4-cd9c-17c9b0186579"
      },
      "outputs": [
        {
          "data": {
            "image/png": "[encoded data removed]",
            "text/plain": [
              "<Figure size 432x288 with 1 Axes>"
            ]
          },
          "metadata": {},
          "output_type": "display_data"
        }
      ],
      "source": [
        "#Plot \n",
        "plt.plot(np.arange(1,21), km_inertia, marker='o')\n",
        "plt.xlabel('Number of clusters')\n",
        "plt.ylabel('Inertia')\n",
        "plt.show()"
      ]
    },
    {
      "cell_type": "markdown",
      "id": "65656bc3-c03f-4239-b449-974c620c2cb9",
      "metadata": {
        "id": "65656bc3-c03f-4239-b449-974c620c2cb9"
      },
      "source": [
        "**Answer:** The best number of cluster to select using Kmeans algorithm is 4 (i.e where the elbow appears)"
      ]
    },
    {
      "cell_type": "markdown",
      "id": "93664b34-50ca-4037-a85d-e57fbcb58114",
      "metadata": {
        "id": "93664b34-50ca-4037-a85d-e57fbcb58114"
      },
      "source": [
        "### Agglomerative Clustering"
      ]
    },
    {
      "cell_type": "code",
      "execution_count": null,
      "id": "7f3784ac-3da0-4565-bccf-ce3786d7d856",
      "metadata": {
        "id": "7f3784ac-3da0-4565-bccf-ce3786d7d856"
      },
      "outputs": [],
      "source": [
        "from sklearn.cluster import AgglomerativeClustering\n",
        "\n",
        "ag = AgglomerativeClustering(n_clusters=2, linkage='ward', compute_full_tree=True)\n",
        "ag.fit(X_scaled)\n",
        "df['agglom'] = ag.fit_predict(X_scaled)"
      ]
    },
    {
      "cell_type": "code",
      "execution_count": null,
      "id": "f8de705d-c007-4cf8-b42d-d6365a8b3040",
      "metadata": {
        "id": "f8de705d-c007-4cf8-b42d-d6365a8b3040",
        "outputId": "0e898340-32be-4288-c14c-b4242a577f54"
      },
      "outputs": [
        {
          "data": {
            "text/html": [
              "<div>\n",
              "<style scoped>\n",
              "    .dataframe tbody tr th:only-of-type {\n",
              "        vertical-align: middle;\n",
              "    }\n",
              "\n",
              "    .dataframe tbody tr th {\n",
              "        vertical-align: top;\n",
              "    }\n",
              "\n",
              "    .dataframe thead th {\n",
              "        text-align: right;\n",
              "    }\n",
              "</style>\n",
              "<table border=\"1\" class=\"dataframe\">\n",
              "  <thead>\n",
              "    <tr style=\"text-align: right;\">\n",
              "      <th></th>\n",
              "      <th></th>\n",
              "      <th>number</th>\n",
              "    </tr>\n",
              "    <tr>\n",
              "      <th>agglom</th>\n",
              "      <th>label</th>\n",
              "      <th></th>\n",
              "    </tr>\n",
              "  </thead>\n",
              "  <tbody>\n",
              "    <tr>\n",
              "      <th rowspan=\"2\" valign=\"top\">0</th>\n",
              "      <th>female</th>\n",
              "      <td>477</td>\n",
              "    </tr>\n",
              "    <tr>\n",
              "      <th>male</th>\n",
              "      <td>875</td>\n",
              "    </tr>\n",
              "    <tr>\n",
              "      <th rowspan=\"2\" valign=\"top\">1</th>\n",
              "      <th>female</th>\n",
              "      <td>1107</td>\n",
              "    </tr>\n",
              "    <tr>\n",
              "      <th>male</th>\n",
              "      <td>709</td>\n",
              "    </tr>\n",
              "  </tbody>\n",
              "</table>\n",
              "</div>"
            ],
            "text/plain": [
              "               number\n",
              "agglom label         \n",
              "0      female     477\n",
              "       male       875\n",
              "1      female    1107\n",
              "       male       709"
            ]
          },
          "execution_count": 18,
          "metadata": {},
          "output_type": "execute_result"
        }
      ],
      "source": [
        "agglom_df = df[['label', 'agglom']].groupby(['agglom', 'label']).size().to_frame().rename(columns={0:'number'})\n",
        "agglom_df"
      ]
    },
    {
      "cell_type": "markdown",
      "id": "ed11d3e1-3980-4de7-898b-d246162cc281",
      "metadata": {
        "id": "ed11d3e1-3980-4de7-898b-d246162cc281"
      },
      "source": [
        "#### Plotting Pie Chart Of Distributions In Each Cluster"
      ]
    },
    {
      "cell_type": "code",
      "execution_count": null,
      "id": "e2f517dd-c793-4061-8dfd-95cdfd7b9e12",
      "metadata": {
        "id": "e2f517dd-c793-4061-8dfd-95cdfd7b9e12",
        "outputId": "56d82d7b-c003-40a3-b111-071c323f05b7"
      },
      "outputs": [
        {
          "data": {
            "image/png": "[encoded data removed]",
            "text/plain": [
              "<Figure size 432x288 with 2 Axes>"
            ]
          },
          "metadata": {},
          "output_type": "display_data"
        }
      ],
      "source": [
        "# Creating dataframe with only label as index, i.e droping ('kmeans')index\n",
        "pie_data  = agglom_df.droplevel('agglom')\n",
        "\n",
        "# set the default color\n",
        "color = sns.color_palette()\n",
        "\n",
        "# set subplots\n",
        "fig, axs = plt.subplots(ncols=2)\n",
        "\n",
        "#create pie chart\n",
        "axs[0].pie(pie_data[:2]['number'], labels = pie_data[:2].index, colors = color, autopct='%.0f%%')\n",
        "axs[1].pie(pie_data[2:]['number'], labels = pie_data[2:].index, colors = color, autopct='%.0f%%');\n",
        "\n",
        "# title and labels\n",
        "fig.suptitle('Cluster Distribution');\n",
        "    \n",
        "axs[0].set_xlabel('Cluster 1')\n",
        "axs[1].set_xlabel('Cluster 2')\n",
        "\n",
        "fig.tight_layout();"
      ]
    },
    {
      "cell_type": "markdown",
      "id": "545aa341-8c07-44d6-b961-ee895d7599b8",
      "metadata": {
        "id": "545aa341-8c07-44d6-b961-ee895d7599b8"
      },
      "source": [
        "**INSIGHT:**\n",
        "- Cluster 1: 35% female and 65% male\n",
        "- Cluster 2: 61% female and 39% male\n",
        "\n",
        "We can deduce from the above information that although the Agglomerative algorithm has done a good job in clustering this data, but the Kmeans algorithm has done a better job."
      ]
    },
    {
      "cell_type": "markdown",
      "id": "1f548d04-d4ca-4935-bcc5-9ef047321882",
      "metadata": {
        "id": "1f548d04-d4ca-4935-bcc5-9ef047321882"
      },
      "source": [
        "##### Visualizing the dendrogram"
      ]
    },
    {
      "cell_type": "code",
      "execution_count": null,
      "id": "bdb065d4-48c1-430f-9ea8-d3336b418f32",
      "metadata": {
        "id": "bdb065d4-48c1-430f-9ea8-d3336b418f32",
        "outputId": "2e4165e9-c639-43ea-e8d0-c5da5e63636c"
      },
      "outputs": [
        {
          "data": {
            "image/png": "[encoded data removed]",
            "text/plain": [
              "<Figure size 1080x360 with 1 Axes>"
            ]
          },
          "metadata": {},
          "output_type": "display_data"
        }
      ],
      "source": [
        "## Plotting dendogram\n",
        "from scipy.cluster import hierarchy\n",
        "\n",
        "z = hierarchy.linkage(ag.children_, method='ward')\n",
        "\n",
        "fig, ax = plt.subplots(figsize=(15,5))\n",
        "\n",
        "den = hierarchy.dendrogram(z, orientation='top',\n",
        "                           p=30, truncate_mode='lastp',\n",
        "                           show_leaf_counts=True, ax=ax)"
      ]
    },
    {
      "cell_type": "markdown",
      "id": "9dcbbf4f-fbe8-4b57-99b9-0657271b17c5",
      "metadata": {
        "id": "9dcbbf4f-fbe8-4b57-99b9-0657271b17c5"
      },
      "source": [
        "### DBSCAN"
      ]
    },
    {
      "cell_type": "code",
      "execution_count": null,
      "id": "e850b79d-5379-4ba8-99e9-3570117a4a5f",
      "metadata": {
        "id": "e850b79d-5379-4ba8-99e9-3570117a4a5f"
      },
      "outputs": [],
      "source": [
        "from sklearn.cluster import DBSCAN\n",
        "\n",
        "db = DBSCAN(eps=3, min_samples=10)\n",
        "db.fit(X_scaled)\n",
        "df['dbscan'] = db.fit_predict(X_scaled)"
      ]
    },
    {
      "cell_type": "code",
      "execution_count": null,
      "id": "112855a1-fb88-434a-83f1-73355d4a55b1",
      "metadata": {
        "id": "112855a1-fb88-434a-83f1-73355d4a55b1",
        "outputId": "9bf74d7a-c025-4cdb-e0eb-3eec1f0e7333"
      },
      "outputs": [
        {
          "data": {
            "text/plain": [
              "array([-1, -1, -1, ...,  0,  0,  0], dtype=int64)"
            ]
          },
          "execution_count": 22,
          "metadata": {},
          "output_type": "execute_result"
        }
      ],
      "source": [
        "labels = db.labels_\n",
        "labels"
      ]
    },
    {
      "cell_type": "code",
      "execution_count": null,
      "id": "1055c2d2-2861-4469-9309-5b0d69c3fd29",
      "metadata": {
        "id": "1055c2d2-2861-4469-9309-5b0d69c3fd29",
        "outputId": "4cf67bd1-3f3f-4ac1-ea4e-aeac24347da7"
      },
      "outputs": [
        {
          "data": {
            "text/plain": [
              "1"
            ]
          },
          "execution_count": 23,
          "metadata": {},
          "output_type": "execute_result"
        }
      ],
      "source": [
        "# Number of clusters in labels, ignoring noise if present.\n",
        "n_clusters_ = len(set(labels)) - (1 if -1 in labels else 0)\n",
        "n_clusters_"
      ]
    },
    {
      "cell_type": "code",
      "execution_count": null,
      "id": "e3672781-5c15-4db2-a857-1d32f0b6f13b",
      "metadata": {
        "id": "e3672781-5c15-4db2-a857-1d32f0b6f13b",
        "outputId": "7c9ff7fe-69a2-4e9a-8d96-d4767afa092c"
      },
      "outputs": [
        {
          "data": {
            "text/html": [
              "<div>\n",
              "<style scoped>\n",
              "    .dataframe tbody tr th:only-of-type {\n",
              "        vertical-align: middle;\n",
              "    }\n",
              "\n",
              "    .dataframe tbody tr th {\n",
              "        vertical-align: top;\n",
              "    }\n",
              "\n",
              "    .dataframe thead th {\n",
              "        text-align: right;\n",
              "    }\n",
              "</style>\n",
              "<table border=\"1\" class=\"dataframe\">\n",
              "  <thead>\n",
              "    <tr style=\"text-align: right;\">\n",
              "      <th></th>\n",
              "      <th></th>\n",
              "      <th>number</th>\n",
              "    </tr>\n",
              "    <tr>\n",
              "      <th>dbscan</th>\n",
              "      <th>label</th>\n",
              "      <th></th>\n",
              "    </tr>\n",
              "  </thead>\n",
              "  <tbody>\n",
              "    <tr>\n",
              "      <th rowspan=\"2\" valign=\"top\">-1</th>\n",
              "      <th>female</th>\n",
              "      <td>19</td>\n",
              "    </tr>\n",
              "    <tr>\n",
              "      <th>male</th>\n",
              "      <td>19</td>\n",
              "    </tr>\n",
              "    <tr>\n",
              "      <th rowspan=\"2\" valign=\"top\">0</th>\n",
              "      <th>female</th>\n",
              "      <td>1565</td>\n",
              "    </tr>\n",
              "    <tr>\n",
              "      <th>male</th>\n",
              "      <td>1565</td>\n",
              "    </tr>\n",
              "  </tbody>\n",
              "</table>\n",
              "</div>"
            ],
            "text/plain": [
              "               number\n",
              "dbscan label         \n",
              "-1     female      19\n",
              "       male        19\n",
              " 0     female    1565\n",
              "       male      1565"
            ]
          },
          "execution_count": 24,
          "metadata": {},
          "output_type": "execute_result"
        }
      ],
      "source": [
        "dbscan_df = df[['label', 'dbscan']].groupby(['dbscan', 'label']).size().to_frame().rename(columns={0:'number'})\n",
        "dbscan_df"
      ]
    },
    {
      "cell_type": "markdown",
      "id": "7c6c17f5-ad0e-49d1-8346-ad809e4d1676",
      "metadata": {
        "id": "7c6c17f5-ad0e-49d1-8346-ad809e4d1676"
      },
      "source": [
        "**INSIGHT**: We cannot use dbscan for this problem because we cannot explicitly specify the number of cluster we want."
      ]
    },
    {
      "cell_type": "code",
      "execution_count": null,
      "id": "40037bb9-f051-4435-93b4-df3b6208ae43",
      "metadata": {
        "id": "40037bb9-f051-4435-93b4-df3b6208ae43"
      },
      "outputs": [],
      "source": []
    }
  ],
  "metadata": {
    "kernelspec": {
      "display_name": "Python 3 (ipykernel)",
      "language": "python",
      "name": "python3"
    },
    "language_info": {
      "codemirror_mode": {
        "name": "ipython",
        "version": 3
      },
      "file_extension": ".py",
      "mimetype": "text/x-python",
      "name": "python",
      "nbconvert_exporter": "python",
      "pygments_lexer": "ipython3",
      "version": "3.9.12"
    },
    "colab": {
      "provenance": [],
      "include_colab_link": true
    }
  },
  "nbformat": 4,
  "nbformat_minor": 5
}
